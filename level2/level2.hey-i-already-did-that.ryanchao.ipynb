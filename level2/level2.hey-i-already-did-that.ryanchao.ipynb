{
 "cells": [
  {
   "cell_type": "markdown",
   "metadata": {},
   "source": [
    "Hey, I Already Did That!\n",
    "==================\n",
    "\n",
    "Commander Lambda uses an automated algorithm to assign minions randomly to tasks, in order to keep her minions on their toes. But you've noticed a flaw in the algorithm - it eventually loops back on itself, so that instead of assigning new minions as it iterates, it gets stuck in a cycle of values so that the same minions end up doing the same tasks over and over again. You think proving this to Commander Lambda will help you make a case for your next promotion. \n",
    "\n",
    "You have worked out that the algorithm has the following process: \n",
    "\n",
    "1) Start with a random minion ID n, which is a nonnegative integer of length k in base b\n",
    "2) Define x and y as integers of length k.  x has the digits of n in descending order, and y has the digits of n in ascending order\n",
    "3) Define z = x - y.  Add leading zeros to z to maintain length k if necessary\n",
    "4) Assign n = z to get the next minion ID, and go back to step 2\n",
    "\n",
    "For example, given minion ID n = 1211, k = 4, b = 10, then x = 2111, y = 1112 and z = 2111 - 1112 = 0999. Then the next minion ID will be n = 0999 and the algorithm iterates again: x = 9990, y = 0999 and z = 9990 - 0999 = 8991, and so on.\n",
    "\n",
    "Depending on the values of n, k (derived from n), and b, at some point the algorithm reaches a cycle, such as by reaching a constant value. For example, starting with n = 210022, k = 6, b = 3, the algorithm will reach the cycle of values [210111, 122221, 102212] and it will stay in this cycle no matter how many times it continues iterating. Starting with n = 1211, the routine will reach the integer 6174, and since 7641 - 1467 is 6174, it will stay as that value no matter how many times it iterates.\n",
    "\n",
    "Given a minion ID as a string n representing a nonnegative integer of length k in base b, where 2 <= k <= 9 and 2 <= b <= 10, write a function answer(n, b) which returns the length of the ending cycle of the algorithm above starting with n. For instance, in the example above, answer(210022, 3) would return 3, since iterating on 102212 would return to 210111 when done in base 3. If the algorithm reaches a constant, such as 0, then the length is 1.\n",
    "\n",
    "Languages\n",
    "========\n",
    "\n",
    "To provide a Python solution, edit solution.py\n",
    "To provide a Java solution, edit solution.java\n",
    "\n",
    "Test cases\n",
    "=======\n",
    "\n",
    "Inputs:\n",
    "    (string) n = \"1211\"\n",
    "    (int) b = 10\n",
    "Output:\n",
    "    (int) 1\n",
    "\n",
    "Inputs:\n",
    "    (string) n = \"210022\"\n",
    "    (int) b = 3\n",
    "Output:\n",
    "    (int) 3"
   ]
  },
  {
   "cell_type": "code",
   "execution_count": 5,
   "metadata": {
    "collapsed": false
   },
   "outputs": [
    {
     "data": {
      "text/plain": [
       "True"
      ]
     },
     "execution_count": 5,
     "metadata": {},
     "output_type": "execute_result"
    }
   ],
   "source": [
    "a = ['1111', '0012', '1234']\n",
    "'1234' in a"
   ]
  },
  {
   "cell_type": "code",
   "execution_count": 8,
   "metadata": {
    "collapsed": false
   },
   "outputs": [
    {
     "data": {
      "text/plain": [
       "2"
      ]
     },
     "execution_count": 8,
     "metadata": {},
     "output_type": "execute_result"
    }
   ],
   "source": [
    "a = 10\n",
    "b = 4\n",
    "a // b"
   ]
  },
  {
   "cell_type": "code",
   "execution_count": 48,
   "metadata": {
    "collapsed": true
   },
   "outputs": [],
   "source": [
    "#  to_base_n(str: int_base_10, int: n) -> str: str_base_n\n",
    "#  2 <= n < 10\n",
    "def to_base_n(int_base_10, n):\n",
    "    residual = int(int_base_10)\n",
    "    digits_base_n = []\n",
    "    while residual >= n:\n",
    "        r = residual % n\n",
    "        digits_base_n.append(str(r))\n",
    "        residual = (residual - r) // n\n",
    "    digits_base_n.append(str(residual))\n",
    "    return ''.join(digits_base_n[::-1])\n",
    "\n",
    "#  to_base_10(str: int_base_n, int: n) -> str: str_base_10\n",
    "#  2 <= n < 10\n",
    "def to_base_10(int_base_n, n):\n",
    "    x = list(int_base_n[::-1])\n",
    "    y_base_10 = 0\n",
    "    for i, a in enumerate(x):\n",
    "        y_base_10 += int(a) * (n ** i)\n",
    "    return str(y_base_10)\n",
    "    "
   ]
  },
  {
   "cell_type": "code",
   "execution_count": 58,
   "metadata": {
    "collapsed": false
   },
   "outputs": [
    {
     "name": "stdout",
     "output_type": "stream",
     "text": [
      "130430224240324\n",
      "True\n"
     ]
    }
   ],
   "source": [
    "x = 9991243214\n",
    "n = 5\n",
    "y = to_base_n(x, n)\n",
    "z = to_base_10(y, n)\n",
    "print(y)\n",
    "print(str(x) == z)"
   ]
  },
  {
   "cell_type": "code",
   "execution_count": 65,
   "metadata": {
    "collapsed": false
   },
   "outputs": [
    {
     "data": {
      "text/plain": [
       "(8, 10)"
      ]
     },
     "execution_count": 65,
     "metadata": {},
     "output_type": "execute_result"
    }
   ],
   "source": [
    "a = list('abcdefghij')\n",
    "a.index('i'), len(a)"
   ]
  },
  {
   "cell_type": "code",
   "execution_count": 61,
   "metadata": {
    "collapsed": false
   },
   "outputs": [
    {
     "data": {
      "text/plain": [
       "False"
      ]
     },
     "execution_count": 61,
     "metadata": {},
     "output_type": "execute_result"
    }
   ],
   "source": [
    "a = []\n",
    "'' in a"
   ]
  },
  {
   "cell_type": "code",
   "execution_count": 71,
   "metadata": {
    "collapsed": true
   },
   "outputs": [],
   "source": [
    "def answer(n, b):\n",
    "    k = len(n)\n",
    "    m = n\n",
    "    mini_id = []\n",
    "    while m not in mini_id:\n",
    "        mini_id.append(m)\n",
    "        s = sorted(m)\n",
    "        x_descend = ''.join(s[::-1])\n",
    "        y_ascend = ''.join(s)        \n",
    "        if b == 10:\n",
    "            int_m = int(x_descend) - int(y_ascend)\n",
    "            m = str(int_m)\n",
    "        else:\n",
    "            int_m_10 = int(to_base_10(x_descend, b)) - int(to_base_10(y_ascend, b))\n",
    "            m = to_base_n(str(int_m_10), b)\n",
    "        \n",
    "        m =  (k - len(m)) * '0' + m\n",
    "    print(mini_id)\n",
    "    return len(mini_id) - mini_id.index(m)"
   ]
  },
  {
   "cell_type": "code",
   "execution_count": 72,
   "metadata": {
    "collapsed": false
   },
   "outputs": [
    {
     "name": "stdout",
     "output_type": "stream",
     "text": [
      "['210022', '220101', '212201', '210111', '122221', '102212']\n"
     ]
    },
    {
     "data": {
      "text/plain": [
       "3"
      ]
     },
     "execution_count": 72,
     "metadata": {},
     "output_type": "execute_result"
    }
   ],
   "source": [
    "answer('210022', 3)"
   ]
  }
 ],
 "metadata": {
  "kernelspec": {
   "display_name": "Python 3",
   "language": "python",
   "name": "python3"
  },
  "language_info": {
   "codemirror_mode": {
    "name": "ipython",
    "version": 3
   },
   "file_extension": ".py",
   "mimetype": "text/x-python",
   "name": "python",
   "nbconvert_exporter": "python",
   "pygments_lexer": "ipython3",
   "version": "3.5.2"
  }
 },
 "nbformat": 4,
 "nbformat_minor": 1
}
