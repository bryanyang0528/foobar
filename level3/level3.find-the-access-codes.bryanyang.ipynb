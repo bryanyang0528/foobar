{
 "cells": [
  {
   "cell_type": "markdown",
   "metadata": {},
   "source": [
    "# Find the Access Codes\n",
    "=====================\n",
    "\n",
    "In order to destroy Commander Lambda's LAMBCHOP doomsday device, you'll need access to it. But the only door leading to the LAMBCHOP chamber is secured with a unique lock system whose number of passcodes changes daily. Commander Lambda gets a report every day that includes the locks' access codes, but only she knows how to figure out which of several lists contains the access codes. You need to find a way to determine which list contains the access codes once you're ready to go in. \n",
    "\n",
    "Fortunately, now that you're Commander Lambda's personal assistant, she's confided to you that she made all the access codes \"lucky triples\" in order to help her better find them in the lists. A \"lucky triple\" is a tuple (x, y, z) where x divides y and y divides z, such as (1, 2, 4). With that information, you can figure out which list contains the number of access codes that matches the number of locks on the door when you're ready to go in (for example, if there's 5 passcodes, you'd need to find a list with 5 \"lucky triple\" access codes).\n",
    "\n",
    "Write a function answer(l) that takes a list of positive integers l and counts the number of \"lucky triples\" of (lst[i], lst[j], lst[k]) where i < j < k.  The length of l is between 2 and 2000 inclusive.  The elements of l are between 1 and 999999 inclusive.  The answer fits within a signed 32-bit integer. Some of the lists are purposely generated without any access codes to throw off spies, so if no triples are found, return 0. \n",
    "\n",
    "For example, [1, 2, 3, 4, 5, 6] has the triples: [1, 2, 4], [1, 2, 6], [1, 3, 6], making the answer 3 total.\n",
    "\n",
    "## Languages\n",
    "=========\n",
    "\n",
    "To provide a Python solution, edit solution.py\n",
    "To provide a Java solution, edit solution.java\n",
    "\n",
    "## Test cases\n",
    "==========\n",
    "\n",
    "Inputs:\n",
    "    (int list) l = [1, 1, 1]\n",
    "Output:\n",
    "    (int) 1\n",
    "\n",
    "Inputs:\n",
    "    (int list) l = [1, 2, 3, 4, 5, 6]\n",
    "Output:\n",
    "    (int) 3"
   ]
  },
  {
   "cell_type": "code",
   "execution_count": 2,
   "metadata": {
    "collapsed": true
   },
   "outputs": [],
   "source": [
    "def answer(l):\n",
    "    # my answer\n",
    "    # triple do not need distinct !important\n",
    "    r1 = {}\n",
    "    r = 0\n",
    "    \n",
    "    for i, j in  enumerate(l): #i position, j: element \n",
    "        v = [\n",
    "            x for x,y in enumerate(l) if x > i and y%l[i]==0 and y >= l[i] \n",
    "        ]\n",
    "        if len(v) > 0:\n",
    "            r1[i] = v\n",
    "            \n",
    "    for key in r1:\n",
    "        if (len(r1[key]) == 1 and key == r1[key][0]) or len(r1[key])==0:\n",
    "            pass\n",
    "        else:\n",
    "            #print key, r1[key]\n",
    "            \n",
    "            for i in [{x: r1[x]} for x in r1[key] if x in r1]:\n",
    "                r+= len(i.items()[0][1])\n",
    "                \n",
    "    return r"
   ]
  },
  {
   "cell_type": "code",
   "execution_count": 7,
   "metadata": {
    "collapsed": true
   },
   "outputs": [],
   "source": [
    "## others solutions from internet\n",
    "## http://codereview.stackexchange.com/questions/144510/google-foobar-challenge-lucky-triples\n",
    "    \n",
    "from bisect import insort_left\n",
    "from itertools import combinations\n",
    "\n",
    "\n",
    "def answer_1(l):\n",
    "    \"\"\"My own solution.\"\"\"\n",
    "    indices = {}\n",
    "    setdefault_ = indices.setdefault\n",
    "    for i, x in enumerate(l):\n",
    "        setdefault_(x, []).append(i)\n",
    "\n",
    "    out = 0\n",
    "    highest_value = max(l)\n",
    "    for i, x in enumerate(l):\n",
    "        multiples = []\n",
    "        for m in xrange(1, int(highest_value / x) + 1):\n",
    "            if x * m in indices:\n",
    "                for j in indices[x * m]:\n",
    "                    if i < j:\n",
    "                        insort_left(multiples, (j, x * m))\n",
    "\n",
    "        if multiples:\n",
    "            multiples = [m[1] for m in multiples]\n",
    "            for pair in combinations(multiples, 2):\n",
    "                out += pair[1] % pair[0] == 0\n",
    "\n",
    "    return out"
   ]
  },
  {
   "cell_type": "code",
   "execution_count": 11,
   "metadata": {
    "collapsed": true
   },
   "outputs": [],
   "source": [
    "## a very brilliant answer but I forgot where I saw it\n",
    "def answer_3(l):\n",
    "    count = 0\n",
    "    size = len(l)\n",
    "    if size < 3: return 0\n",
    "\n",
    "    cache = [0] * size\n",
    "    for x in xrange(size):\n",
    "        for y in xrange(x + 1, size):\n",
    "            if l[y] % l[x] == 0:\n",
    "                cache[y] += 1\n",
    "                count += cache[x]\n",
    "\n",
    "    return count"
   ]
  },
  {
   "cell_type": "code",
   "execution_count": 17,
   "metadata": {
    "collapsed": false
   },
   "outputs": [],
   "source": []
  },
  {
   "cell_type": "code",
   "execution_count": 19,
   "metadata": {
    "collapsed": true
   },
   "outputs": [],
   "source": [
    "import random\n",
    "def test(answer):\n",
    "    \n",
    "    random.seed(1234)\n",
    "    l = [random.randint(1,99) for r in xrange(2000)]\n",
    "    # Provided test cases.\n",
    "    assert(answer([1, 1, 1]) == 1)\n",
    "    assert(answer([1, 2, 3, 4, 5, 6]) == 3)\n",
    "\n",
    "    # Custom test cases.\n",
    "    assert(answer([1]) == 0)\n",
    "    assert(answer([1, 2]) == 0)\n",
    "    assert(answer([2, 4]) == 0)\n",
    "    assert(answer([1, 1, 1, 1]) == 4)\n",
    "    assert(answer([1, 1, 1, 1, 1]) == 10)\n",
    "    assert(answer([1, 1, 1, 1, 1, 1]) == 20)\n",
    "    assert(answer([1, 1, 1, 1, 1, 1, 1]) == 35)\n",
    "    assert(answer([1, 1, 2]) == 1)\n",
    "    assert(answer([1, 1, 2, 2]) == 4)\n",
    "    assert(answer([1, 1, 2, 2, 2]) == 10)\n",
    "    assert(answer([1, 1, 2, 2, 2, 3]) == 11)\n",
    "    assert(answer([1, 2, 4, 8, 16]) == 10)\n",
    "    assert(answer([2, 4, 5, 9, 12, 34, 45]) == 1)\n",
    "    assert(answer([2, 2, 2, 2, 4, 4, 5, 6, 8, 8, 8]) == 90)\n",
    "    assert(answer([2, 4, 8]) == 1)\n",
    "    assert(answer([2, 4, 8, 16]) == 4)\n",
    "    assert(answer([3, 4, 2, 7]) == 0)\n",
    "    assert(answer([6, 5, 4, 3, 2, 1]) == 0)\n",
    "    assert(answer([4, 7, 14]) == 0)\n",
    "    assert(answer([4, 21, 7, 14, 8, 56, 56, 42]) == 9)\n",
    "    assert(answer([4, 21, 7, 14, 56, 8, 56, 4, 42]) == 7)\n",
    "    assert(answer([4, 7, 14, 8, 21, 56, 42]) == 4)\n",
    "    assert(answer([4, 8, 4, 16]) == 2)\n",
    "    assert(answer(l) == 1795067)"
   ]
  },
  {
   "cell_type": "code",
   "execution_count": 20,
   "metadata": {
    "collapsed": false
   },
   "outputs": [
    {
     "name": "stdout",
     "output_type": "stream",
     "text": [
      "CPU times: user 441 ms, sys: 4.11 ms, total: 445 ms\n",
      "Wall time: 443 ms\n"
     ]
    }
   ],
   "source": [
    "%%time\n",
    "test(answer)"
   ]
  },
  {
   "cell_type": "code",
   "execution_count": 21,
   "metadata": {
    "collapsed": false
   },
   "outputs": [
    {
     "name": "stdout",
     "output_type": "stream",
     "text": [
      "CPU times: user 3.88 s, sys: 14.4 ms, total: 3.9 s\n",
      "Wall time: 3.91 s\n"
     ]
    }
   ],
   "source": [
    "%%time\n",
    "test(answer_1)"
   ]
  },
  {
   "cell_type": "code",
   "execution_count": 22,
   "metadata": {
    "collapsed": false
   },
   "outputs": [
    {
     "name": "stdout",
     "output_type": "stream",
     "text": [
      "CPU times: user 220 ms, sys: 4.23 ms, total: 224 ms\n",
      "Wall time: 222 ms\n"
     ]
    }
   ],
   "source": [
    "%%time\n",
    "test(answer_3)"
   ]
  },
  {
   "cell_type": "code",
   "execution_count": null,
   "metadata": {
    "collapsed": true
   },
   "outputs": [],
   "source": []
  }
 ],
 "metadata": {
  "kernelspec": {
   "display_name": "Python 2",
   "language": "python",
   "name": "python2"
  },
  "language_info": {
   "codemirror_mode": {
    "name": "ipython",
    "version": 2
   },
   "file_extension": ".py",
   "mimetype": "text/x-python",
   "name": "python",
   "nbconvert_exporter": "python",
   "pygments_lexer": "ipython2",
   "version": "2.7.11"
  }
 },
 "nbformat": 4,
 "nbformat_minor": 0
}
