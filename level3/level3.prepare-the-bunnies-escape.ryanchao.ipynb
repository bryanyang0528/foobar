{
 "cells": [
  {
   "cell_type": "markdown",
   "metadata": {},
   "source": [
    "Prepare the Bunnies' Escape\n",
    "===========================\n",
    "\n",
    "You're awfully close to destroying the LAMBCHOP doomsday device and freeing Commander Lambda's bunny prisoners, but once they're free of the prison blocks, the bunnies are going to need to escape Lambda's space station via the escape pods as quickly as possible. Unfortunately, the halls of the space station are a maze of corridors and dead ends that will be a deathtrap for the escaping bunnies. Fortunately, Commander Lambda has put you in charge of a remodeling project that will give you the opportunity to make things a little easier for the bunnies. Unfortunately (again), you can't just remove all obstacles between the bunnies and the escape pods - at most you can remove one wall per escape pod path, both to maintain structural integrity of the station and to avoid arousing Commander Lambda's suspicions. \n",
    "\n",
    "You have maps of parts of the space station, each starting at a prison exit and ending at the door to an escape pod. The map is represented as a matrix of 0s and 1s, where 0s are passable space and 1s are impassable walls. The door out of the prison is at the top left (0,0) and the door into an escape pod is at the bottom right (w-1,h-1). \n",
    "\n",
    "Write a function answer(map) that generates the length of the shortest path from the prison door to the escape pod, where you are allowed to remove one wall as part of your remodeling plans. The path length is the total number of nodes you pass through, counting both the entrance and exit nodes. The starting and ending positions are always passable (0). The map will always be solvable, though you may or may not need to remove a wall. The height and width of the map can be from 2 to 20. Moves can only be made in cardinal directions; no diagonal moves are allowed.\n",
    "\n",
    "Languages\n",
    "=========\n",
    "\n",
    "To provide a Python solution, edit solution.py\n",
    "To provide a Java solution, edit solution.java\n",
    "\n",
    "Test cases\n",
    "==========\n",
    "\n",
    "Inputs:\n",
    "    (int) maze = [[0, 1, 1, 0], [0, 0, 0, 1], [1, 1, 0, 0], [1, 1, 1, 0]]\n",
    "Output:\n",
    "    (int) 7\n",
    "\n",
    "Inputs:\n",
    "    (int) maze = [[0, 0, 0, 0, 0, 0], [1, 1, 1, 1, 1, 0], [0, 0, 0, 0, 0, 0], [0, 1, 1, 1, 1, 1], [0, 1, 1, 1, 1, 1], [0, 0, 0, 0, 0, 0]]\n",
    "Output:\n",
    "    (int) 11"
   ]
  },
  {
   "cell_type": "markdown",
   "metadata": {},
   "source": [
    "Thoughts\n",
    "========\n",
    "\n",
    "~~1. What are the conditions that you should remove the wall~~\n",
    "2. DFS? BFS? (I guess BFS)\n",
    "3. BFS will exceede time limit"
   ]
  },
  {
   "cell_type": "code",
   "execution_count": 1,
   "metadata": {
    "collapsed": false
   },
   "outputs": [
    {
     "name": "stdout",
     "output_type": "stream",
     "text": [
      "4360630664\n",
      "4360630664\n",
      "[1, 2, 3, 4, 5, 0]\n"
     ]
    }
   ],
   "source": [
    "a = [1,2,3,4,5]\n",
    "def foo(l):\n",
    "    print(id(l))\n",
    "    l.append(0)\n",
    "\n",
    "print(id(a))\n",
    "foo(a)\n",
    "print(a)"
   ]
  },
  {
   "cell_type": "code",
   "execution_count": 16,
   "metadata": {
    "collapsed": false,
    "scrolled": true
   },
   "outputs": [
    {
     "name": "stdout",
     "output_type": "stream",
     "text": [
      "[[1, 2, 3], [4, 5, 6], [7, 8, 9]] 4363275336\n",
      "[[1, 2, 3], [4, 5, 6], [7, 8, 9]] 4363275336\n",
      "[[1, 2, 3], [4, 5, 6], [7, 8, 9]] 4363275336\n",
      "[0, 5, 10]\n",
      "[0, 5, 10]\n"
     ]
    }
   ],
   "source": [
    "MAZE = None\n",
    "\n",
    "class Bar(object):\n",
    "    MAZE = None\n",
    "    NODES = []\n",
    "    def __init__(self, point=(0,0), step=0):\n",
    "        self.step = step\n",
    "        self.foo()\n",
    "    def foo(self):\n",
    "        self.NODES.append(self.step)\n",
    "        print(self.MAZE, id(self.MAZE))\n",
    "\n",
    "def main_():\n",
    "    global MAZE\n",
    "    MAZE = [[1,2,3],[4,5,6],[7,8,9]]\n",
    "\n",
    "Bar.MAZE = [[1,2,3],[4,5,6],[7,8,9]]\n",
    "# main_() # 4296868152\n",
    "bar1 = Bar()\n",
    "bar2 = Bar((1,1), 5)\n",
    "bar3 = Bar((6,1), 10)\n",
    "print(bar1.NODES)\n",
    "print(bar3.NODES)"
   ]
  },
  {
   "cell_type": "code",
   "execution_count": 14,
   "metadata": {
    "collapsed": false
   },
   "outputs": [],
   "source": [
    "class Node(object):\n",
    "    MAZE = None\n",
    "    WIDTH = 0\n",
    "    HEIGHT = 0\n",
    "    END_POINT = None\n",
    "    NODES = {}\n",
    "    \n",
    "    def __init__(self, point=(0, 0), step=0, break_wall=0):\n",
    "        self.point = point\n",
    "        self.step = step\n",
    "        self.break_wall = break_wall\n",
    "        \n",
    "    def in_shortest_path(self, p, step, br):\n",
    "        np = '{}_{}_{}'.format(p[0], p[1], br)\n",
    "        if np in self.NODES:\n",
    "            if self.NODES[np] <= step:\n",
    "                return False\n",
    "            else:\n",
    "                self.NODES[np] = step\n",
    "                return True\n",
    "        else:\n",
    "            self.NODES[np] = step\n",
    "            return True    \n",
    "        \n",
    "            \n",
    "    def get_valid_children(self):\n",
    "        end = False\n",
    "        up = (max(self.point[0] - 1, 0), self.point[1])\n",
    "        down = (min(self.point[0] + 1, self.HEIGHT - 1), self.point[1])\n",
    "        left = (self.point[0], max(self.point[1] - 1, 0))\n",
    "        right = (self.point[0], min(self.point[1] + 1, self.WIDTH - 1))\n",
    "        \n",
    "        pts = [p for p in [up, down, left, right] if self.in_shortest_path(p, self.step + 1, self.break_wall)]\n",
    "        \n",
    "        if len(pts) == 0:\n",
    "            return [], end\n",
    "        else:\n",
    "            if self.break_wall == 1:\n",
    "                children = [\n",
    "                    p for p in pts if (self.MAZE[p[0]][p[1]] == 0)\n",
    "                ]\n",
    "                has_wall = [True] * len(children)\n",
    "            else:\n",
    "                children = pts[:]\n",
    "                    \n",
    "                has_wall = [self.MAZE[p[0]][p[1]] for p in children]\n",
    "            end = self.END_POINT in children\n",
    "            return [Node(c, self.step+1, w) for c, w in zip(children, has_wall)], end\n",
    "     \n",
    "    @staticmethod\n",
    "    def reset(maze):\n",
    "        Node.MAZE = maze\n",
    "        Node.WIDTH = len(maze[0])\n",
    "        Node.HEIGHT = len(maze)\n",
    "        Node.NODES = {'0_0_0': 1, '0_0_1': 1}\n",
    "        Node.END_POINT = (Node.HEIGHT-1, Node.WIDTH-1)\n",
    "\n",
    "\n",
    "    "
   ]
  },
  {
   "cell_type": "code",
   "execution_count": 243,
   "metadata": {
    "collapsed": false
   },
   "outputs": [],
   "source": [
    "Node.reset(MAZE)\n",
    "\n",
    "step = 0\n",
    "root = Node(parent=[(0, 0)], step=1, break_wall=MAZE[0][0])\n",
    "\n",
    "nodes, end = root.get_valid_children()\n",
    "\n",
    "for nd in nodes:\n",
    "    _nodes, end = nd.get_valid_children()\n",
    "    if end:\n",
    "        step = nd.step + 1\n",
    "        break\n",
    "    else:\n",
    "        nodes.extend(_nodes)\n",
    "\n",
    "print(step)\n",
    "    \n",
    "    \n",
    "    \n"
   ]
  },
  {
   "cell_type": "code",
   "execution_count": 17,
   "metadata": {
    "collapsed": false
   },
   "outputs": [],
   "source": [
    "import sys\n",
    "def answer(maze):\n",
    "    Node.reset(maze)\n",
    "\n",
    "    step = 0\n",
    "    root = Node(step=1, break_wall=maze[0][0])\n",
    "\n",
    "    nodes, end = root.get_valid_children()\n",
    "    while nodes and not end:\n",
    "        _nodes, end = nodes[0].get_valid_children()\n",
    "        if end:\n",
    "            step = nodes[0].step + 1\n",
    "            break\n",
    "        else:\n",
    "            nodes.extend(_nodes)\n",
    "        del nodes[0]\n",
    "    return step\n",
    "\n",
    "# answer(MAZE)"
   ]
  },
  {
   "cell_type": "code",
   "execution_count": 18,
   "metadata": {
    "collapsed": false
   },
   "outputs": [
    {
     "name": "stdout",
     "output_type": "stream",
     "text": [
      "21\n",
      "19\n",
      "39\n"
     ]
    }
   ],
   "source": [
    "MAZE = [\n",
    "#     [\n",
    "#         [0, 1, 1, 0], \n",
    "#         [0, 0, 0, 1], \n",
    "#         [1, 1, 0, 0], \n",
    "#         [1, 1, 0, 0], \n",
    "#         [1, 1, 0, 0]\n",
    "#     ],\n",
    "#     [\n",
    "#         [0, 0, 0, 0, 0, 0], \n",
    "#         [1, 1, 1, 1, 1, 0], \n",
    "#         [0, 0, 0, 0, 0, 0], \n",
    "#         [0, 1, 1, 1, 1, 1], \n",
    "#         [0, 1, 1, 1, 1, 1], \n",
    "#         [0, 0, 0, 0, 0, 0]\n",
    "#     ],\n",
    "    [\n",
    "        [0, 0, 0, 0, 0, 0], \n",
    "        [1, 1, 1, 1, 1, 0], \n",
    "        [0, 0, 0, 0, 0, 0], \n",
    "        [0, 1, 1, 1, 1, 1], \n",
    "        [1, 1, 1, 1, 1, 1], \n",
    "        [0, 0, 0, 0, 0, 0]\n",
    "    ],\n",
    "#     [\n",
    "#         [0, 0, 0, 0, 0, 0],\n",
    "#         [0, 0, 0, 0, 0, 0], \n",
    "#         [0, 0, 0, 0, 0, 0],\n",
    "#         [0, 0, 0, 0, 0, 0], \n",
    "#         [0, 0, 0, 0, 0, 0], \n",
    "#         [0, 0, 0, 0, 0, 0], \n",
    "#         [1, 1, 1, 1, 1, 0], \n",
    "#         [0, 0, 0, 0, 0, 0], \n",
    "#         [0, 1, 1, 1, 1, 1], \n",
    "#         [1, 1, 1, 1, 1, 1], \n",
    "#         [0, 0, 0, 0, 0, 0]\n",
    "#     ],\n",
    "    [\n",
    "        [0, 0, 0, 0, 0, 0, 0, 0, 0, 0],\n",
    "        [0, 0, 0, 0, 0, 0, 0, 0, 0, 0], \n",
    "        [0, 0, 0, 0, 0, 0, 0, 0, 0, 0], \n",
    "        [0, 0, 0, 0, 0, 0, 0, 0, 0, 0], \n",
    "        [0, 0, 0, 0, 0, 0, 0, 0, 0, 0], \n",
    "        [0, 0, 0, 0, 0, 0, 0, 0, 0, 0], \n",
    "        [0, 0, 0, 0, 0, 0, 0, 0, 0, 0], \n",
    "        [0, 0, 0, 0, 0, 0, 0, 0, 0, 0], \n",
    "        [0, 0, 0, 0, 0, 0, 0, 0, 0, 0], \n",
    "        [0, 0, 0, 0, 0, 0, 0, 0, 0, 0], \n",
    "    ],\n",
    "    [\n",
    "        [0, 0, 0, 0, 0, 0, 0, 0, 0, 0, 0, 0, 0, 0, 0, 0, 0, 0, 0, 0],\n",
    "        [0, 0, 0, 0, 0, 0, 0, 0, 0, 0, 0, 0, 0, 0, 0, 0, 0, 0, 0, 0],\n",
    "        [0, 0, 0, 0, 0, 0, 0, 0, 0, 0, 0, 0, 0, 0, 0, 0, 0, 0, 0, 0],\n",
    "        [0, 0, 0, 0, 0, 0, 0, 0, 0, 0, 0, 0, 0, 0, 0, 0, 0, 0, 0, 0],\n",
    "        [0, 0, 0, 0, 0, 0, 0, 0, 0, 0, 0, 0, 0, 0, 0, 0, 0, 0, 0, 0],\n",
    "        [0, 0, 0, 0, 0, 0, 0, 0, 0, 0, 0, 0, 0, 0, 0, 0, 0, 0, 0, 0],\n",
    "        [0, 0, 0, 0, 0, 0, 0, 0, 0, 0, 0, 0, 0, 0, 0, 0, 0, 0, 0, 0],\n",
    "        [0, 0, 0, 0, 0, 0, 0, 0, 0, 0, 0, 0, 0, 0, 0, 0, 0, 0, 0, 0],\n",
    "        [0, 0, 0, 0, 0, 0, 0, 0, 0, 0, 0, 0, 0, 0, 0, 0, 0, 0, 0, 0],\n",
    "        [0, 0, 0, 0, 0, 0, 0, 0, 0, 0, 0, 0, 0, 0, 0, 0, 0, 0, 0, 0],\n",
    "        [0, 0, 0, 0, 0, 0, 0, 0, 0, 0, 0, 0, 0, 0, 0, 0, 0, 0, 0, 0],\n",
    "        [0, 0, 0, 0, 0, 0, 0, 0, 0, 0, 0, 0, 0, 0, 0, 0, 0, 0, 0, 0],\n",
    "        [0, 0, 0, 0, 0, 0, 0, 0, 0, 0, 0, 0, 0, 0, 0, 0, 0, 0, 0, 0],\n",
    "        [0, 0, 0, 0, 0, 0, 0, 0, 0, 0, 0, 0, 0, 0, 0, 0, 0, 0, 0, 0],\n",
    "        [0, 0, 0, 0, 0, 0, 0, 0, 0, 0, 0, 0, 0, 0, 0, 0, 0, 0, 0, 0],\n",
    "        [0, 0, 0, 0, 0, 0, 0, 0, 0, 0, 0, 0, 0, 0, 0, 0, 0, 0, 0, 0],\n",
    "        [0, 0, 0, 0, 0, 0, 0, 0, 0, 0, 0, 0, 0, 0, 0, 0, 0, 0, 0, 0],\n",
    "        [0, 0, 0, 0, 0, 0, 0, 0, 0, 0, 0, 0, 0, 0, 0, 0, 0, 0, 0, 0],\n",
    "        [0, 0, 0, 0, 0, 0, 0, 0, 0, 0, 0, 0, 0, 0, 0, 0, 0, 0, 0, 0],\n",
    "        [0, 0, 0, 0, 0, 0, 0, 0, 0, 0, 0, 0, 0, 0, 0, 0, 0, 0, 0, 0],   \n",
    "    ]\n",
    "    \n",
    "]\n",
    "\n",
    "for m in MAZE:\n",
    "    print(answer(m))\n"
   ]
  },
  {
   "cell_type": "code",
   "execution_count": 46,
   "metadata": {
    "collapsed": false
   },
   "outputs": [
    {
     "data": {
      "text/plain": [
       "(4502175880, 4502175880)"
      ]
     },
     "execution_count": 46,
     "metadata": {},
     "output_type": "execute_result"
    }
   ],
   "source": [
    "(id(result[1][0].NODES), id(result[1][1].NODES)) # 1,156,288 406,496"
   ]
  },
  {
   "cell_type": "code",
   "execution_count": 29,
   "metadata": {
    "collapsed": false
   },
   "outputs": [
    {
     "data": {
      "text/plain": [
       "(True, False)"
      ]
     },
     "execution_count": 29,
     "metadata": {},
     "output_type": "execute_result"
    }
   ],
   "source": [
    "a = [\n",
    "    (i, i+1) for i in range(100) if not (i % 2 == 0 or i % 3 == 0)\n",
    "]\n",
    "# b = tuple([0, 1])\n",
    "# a == b, a is b\n",
    "(7, 8) in a, (8, 9) in a"
   ]
  },
  {
   "cell_type": "code",
   "execution_count": 18,
   "metadata": {
    "collapsed": false
   },
   "outputs": [
    {
     "name": "stdout",
     "output_type": "stream",
     "text": [
      "1\n",
      "2\n",
      "3\n",
      "4\n",
      "5\n"
     ]
    }
   ],
   "source": [
    "a = [1, 2, 3, 4, 5]\n",
    "i = 0\n",
    "while a:\n",
    "    print(a[i])\n",
    "    del a[i]"
   ]
  },
  {
   "cell_type": "code",
   "execution_count": 57,
   "metadata": {
    "collapsed": false
   },
   "outputs": [
    {
     "name": "stdout",
     "output_type": "stream",
     "text": [
      "CPU times: user 5 µs, sys: 1e+03 ns, total: 6 µs\n",
      "Wall time: 8.11 µs\n"
     ]
    }
   ],
   "source": [
    "%time a = list('AB')\n"
   ]
  }
 ],
 "metadata": {
  "kernelspec": {
   "display_name": "Python [Root]",
   "language": "python",
   "name": "Python [Root]"
  },
  "language_info": {
   "codemirror_mode": {
    "name": "ipython",
    "version": 3
   },
   "file_extension": ".py",
   "mimetype": "text/x-python",
   "name": "python",
   "nbconvert_exporter": "python",
   "pygments_lexer": "ipython3",
   "version": "3.5.2"
  }
 },
 "nbformat": 4,
 "nbformat_minor": 0
}
