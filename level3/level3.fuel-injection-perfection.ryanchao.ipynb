{
 "cells": [
  {
   "cell_type": "markdown",
   "metadata": {},
   "source": [
    "Fuel Injection Perfection\n",
    "=========================\n",
    "\n",
    "Commander Lambda has asked for your help to refine the automatic quantum antimatter fuel injection system for her LAMBCHOP doomsday device. It's a great chance for you to get a closer look at the LAMBCHOP - and maybe sneak in a bit of sabotage while you're at it - so you took the job gladly. \n",
    "\n",
    "Quantum antimatter fuel comes in small pellets, which is convenient since the many moving parts of the LAMBCHOP each need to be fed fuel one pellet at a time. However, minions dump pellets in bulk into the fuel intake. You need to figure out the most efficient way to sort and shift the pellets down to a single pellet at a time. \n",
    "\n",
    "The fuel control mechanisms have three operations: \n",
    "\n",
    "1) Add one fuel pellet\n",
    "2) Remove one fuel pellet\n",
    "3) Divide the entire group of fuel pellets by 2 (due to the destructive energy released when a quantum antimatter pellet is cut in half, the safety controls will only allow this to happen if there is an even number of pellets)\n",
    "\n",
    "Write a function called answer(n) which takes a positive integer as a string and returns the minimum number of operations needed to transform the number of pellets to 1. The fuel intake control panel can only display a number up to 309 digits long, so there won't ever be more pellets than you can express in that many digits.\n",
    "\n",
    "For example:\n",
    "answer(4) returns 2: 4 -> 2 -> 1\n",
    "answer(15) returns 5: 15 -> 16 -> 8 -> 4 -> 2 -> 1\n",
    "\n",
    "\n",
    "Languages\n",
    "=========\n",
    "\n",
    "To provide a Python solution, edit solution.py\n",
    "To provide a Java solution, edit solution.java\n",
    "\n",
    "Test cases\n",
    "==========\n",
    "\n",
    "Inputs:\n",
    "    (string) n = \"4\"\n",
    "Output:\n",
    "    (int) 2\n",
    "\n",
    "Inputs:\n",
    "    (string) n = \"15\"\n",
    "Output:\n",
    "    (int) 5"
   ]
  },
  {
   "cell_type": "code",
   "execution_count": 94,
   "metadata": {
    "collapsed": false
   },
   "outputs": [],
   "source": [
    "class Injection(object):\n",
    "    def __init__(self, n):\n",
    "        self.n_bin = bin(n)[2:]\n",
    "    \n",
    "    def answer(self):\n",
    "        if self.n_bin[0] != '1':\n",
    "            return -1\n",
    "        n_bin = self.n_bin\n",
    "        step = 0\n",
    "        print(n_bin)\n",
    "        \n",
    "        while len(n_bin) > 1:\n",
    "            if n_bin == '11':\n",
    "                step += 2\n",
    "                break\n",
    "            tag_, len_ = self.cal_tail_len(n_bin)\n",
    "            \n",
    "            if tag_ == '0':\n",
    "                step += len_\n",
    "                n_bin = n_bin[:-len_]\n",
    "            else:\n",
    "                step += 2\n",
    "                if len_ < 2:\n",
    "                    n_bin = n_bin[:-1]\n",
    "                else:\n",
    "                    head, tail = n_bin[:-len_-1], '1' + '0' * (len_ - 1)\n",
    "                    n_bin = head + tail\n",
    "            print(n_bin, step)\n",
    "        return step\n",
    "    \n",
    "    def cal_tail_len(self, n_bin):\n",
    "        len_ = 1\n",
    "        tag_ = n_bin[-1]\n",
    "        n_bin_reversed = n_bin[::-1][1:]\n",
    "        for x in n_bin_reversed:\n",
    "            if tag_ == x:\n",
    "                len_ += 1\n",
    "            else:\n",
    "                break\n",
    "        return tag_, len_\n",
    "    \n",
    "    "
   ]
  },
  {
   "cell_type": "code",
   "execution_count": 3,
   "metadata": {
    "collapsed": false
   },
   "outputs": [
    {
     "name": "stdout",
     "output_type": "stream",
     "text": [
      "<class 'str'> 0b1100100\n",
      "010011b0\n"
     ]
    }
   ],
   "source": [
    "n_bin = bin(100)\n",
    "print(type(n_bin), n_bin)\n",
    "print(n_bin[::-1][1:])"
   ]
  },
  {
   "cell_type": "code",
   "execution_count": 29,
   "metadata": {
    "collapsed": false
   },
   "outputs": [
    {
     "name": "stdout",
     "output_type": "stream",
     "text": [
      "1010\n",
      "('0', 1)\n",
      "101\n"
     ]
    }
   ],
   "source": [
    "n = int(10)\n",
    "iinjection = Injection(n)\n",
    "print(iinjection.n_bin)\n",
    "print(iinjection.cal_tail_len(iinjection.n_bin))\n",
    "print(iinjection.n_bin[:-1])"
   ]
  },
  {
   "cell_type": "code",
   "execution_count": 95,
   "metadata": {
    "collapsed": false
   },
   "outputs": [
    {
     "name": "stdout",
     "output_type": "stream",
     "text": [
      "111011\n",
      "11110 2\n",
      "1111 3\n",
      "1000 5\n",
      "1 8\n"
     ]
    },
    {
     "data": {
      "text/plain": [
       "8"
      ]
     },
     "execution_count": 95,
     "metadata": {},
     "output_type": "execute_result"
    }
   ],
   "source": [
    "n = int(59)\n",
    "iinjection = Injection(n)\n",
    "iinjection.answer()"
   ]
  },
  {
   "cell_type": "code",
   "execution_count": 79,
   "metadata": {
    "collapsed": false
   },
   "outputs": [
    {
     "data": {
      "text/plain": [
       "'11000'"
      ]
     },
     "execution_count": 79,
     "metadata": {},
     "output_type": "execute_result"
    }
   ],
   "source": [
    "a='101111'\n",
    "a[:-4-1]+'1'+'0'*(4-1)"
   ]
  }
 ],
 "metadata": {
  "anaconda-cloud": {},
  "kernelspec": {
   "display_name": "Python [Root]",
   "language": "python",
   "name": "Python [Root]"
  },
  "language_info": {
   "codemirror_mode": {
    "name": "ipython",
    "version": 3
   },
   "file_extension": ".py",
   "mimetype": "text/x-python",
   "name": "python",
   "nbconvert_exporter": "python",
   "pygments_lexer": "ipython3",
   "version": "3.5.2"
  }
 },
 "nbformat": 4,
 "nbformat_minor": 0
}
