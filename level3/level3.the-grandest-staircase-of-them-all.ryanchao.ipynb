{
 "cells": [
  {
   "cell_type": "markdown",
   "metadata": {},
   "source": [
    "The Grandest Staircase Of Them All\n",
    "==================================\n",
    "\n",
    "With her LAMBCHOP doomsday device finished, Commander Lambda is preparing for her debut on the galactic stage - but in order to make a grand entrance, she needs a grand staircase! As her personal assistant, you've been tasked with figuring out how to build the best staircase EVER. \n",
    "\n",
    "Lambda has given you an overview of the types of bricks available, plus a budget. You can buy different amounts of the different types of bricks (for example, 3 little pink bricks, or 5 blue lace bricks). Commander Lambda wants to know how many different types of staircases can be built with each amount of bricks, so she can pick the one with the most options. \n",
    "\n",
    "Each type of staircase should consist of 2 or more steps.  No two steps are allowed to be at the same height - each step must be lower than the previous one. All steps must contain at least one brick. A step's height is classified as the total amount of bricks that make up that step.\n",
    "For example, when N = 3, you have only 1 choice of how to build the staircase, with the first step having a height of 2 and the second step having a height of 1: (# indicates a brick)\n",
    "\n",
    "\\#<br>\n",
    "\\##\n",
    "21\n",
    "\n",
    "When N = 4, you still only have 1 staircase choice:\n",
    "\n",
    "\\#<br>\n",
    "\\#<br>\n",
    "\\##\n",
    "31\n",
    " \n",
    "But when N = 5, there are two ways you can build a staircase from the given bricks. The two staircases can have heights (4, 1) or (3, 2), as shown below:\n",
    "\n",
    "\\#<br>\n",
    "\\#<br>\n",
    "\\#<br>\n",
    "\\##\n",
    "41\n",
    "\n",
    "\\#<br>\n",
    "\\##<br>\n",
    "\\##\n",
    "32\n",
    "\n",
    "Write a function called answer(n) that takes a positive integer n and returns the number of different staircases that can be built from exactly n bricks. n will always be at least 3 (so you can have a staircase at all), but no more than 200, because Commander Lambda's not made of money!\n",
    "\n",
    "Languages\n",
    "=========\n",
    "\n",
    "To provide a Python solution, edit solution.py\n",
    "To provide a Java solution, edit solution.java\n",
    "\n",
    "Test cases\n",
    "==========\n",
    "\n",
    "Inputs:\n",
    "    (int) n = 3\n",
    "Output:\n",
    "    (int) 1\n",
    "\n",
    "Inputs:\n",
    "    (int) n = 200\n",
    "Output:\n",
    "    (int) 487067745\n"
   ]
  },
  {
   "cell_type": "code",
   "execution_count": 164,
   "metadata": {
    "collapsed": false
   },
   "outputs": [],
   "source": [
    "class StairCase(object):\n",
    "    stair_cache = {}\n",
    "    stair_record = 0\n",
    "    \n",
    "    def __init__(self):\n",
    "        pass\n",
    "    \n",
    "    def find_all_combination_at_nth_stair(self, n):\n",
    "        if n < 3: return 0\n",
    "    \n",
    "        while n > self.stair_record:\n",
    "            n_ = self.stair_record + 1\n",
    "            n_str = str(n_)\n",
    "            m_str = str(n_-1)\n",
    "            \n",
    "            temp = []\n",
    "            for i in range(n_):\n",
    "                m_ = i + 1\n",
    "                b_ = n_ - m_\n",
    "                if m_ < b_:\n",
    "                    temp.append(self.stair_cache[str(m_)]['self'])\n",
    "                else:\n",
    "                    temp.append(self.get_stair_combination_at_base_i(m_, b_))\n",
    "                    if temp[-1] <= 0:\n",
    "                        break\n",
    "\n",
    "            self_ = 1 + sum(temp)\n",
    "            sum_ = self_ - 1\n",
    "            other_ = [sum_]\n",
    "            for i in range(n_):\n",
    "                sum_ -= temp[i]\n",
    "                if sum_ <= 0:\n",
    "                    break\n",
    "                other_.append(sum_)\n",
    "\n",
    "            self.stair_cache[n_str] = {'self': self_, 'other': other_}\n",
    "            self.stair_record = int(n_str)\n",
    "                \n",
    "        \n",
    "        return self.stair_cache[str(n)]['self'] - 1\n",
    "                    \n",
    "    def get_stair_combination_at_base_i(self, m, idx):\n",
    "        m_str = str(m)\n",
    "        if m_str in self.stair_cache:\n",
    "            other_ = self.stair_cache[m_str]['other']\n",
    "            idx_ = m - idx\n",
    "            if idx_ < len(other_):\n",
    "                return other_[idx_]\n",
    "            else:\n",
    "                return 0\n",
    "                \n",
    "    \n",
    "    @staticmethod\n",
    "    def reset_step():\n",
    "        StairCase.stair_cache.clear()\n",
    "        StairCase.stair_record = 3\n",
    "        StairCase.stair_cache['1'] = {'self': 1, 'other':[0]}\n",
    "        StairCase.stair_cache['2'] = {'self': 1, 'other':[0]}\n",
    "        StairCase.stair_cache['3'] = {'self': 2, 'other':[1]}\n",
    "        \n",
    "        "
   ]
  },
  {
   "cell_type": "code",
   "execution_count": 165,
   "metadata": {
    "collapsed": false
   },
   "outputs": [
    {
     "name": "stdout",
     "output_type": "stream",
     "text": [
      "1000 loops, best of 3: 1.04 ms per loop\n"
     ]
    }
   ],
   "source": [
    "%%timeit\n",
    "StairCase.reset_step()\n",
    "stair = StairCase()\n",
    "stair.find_all_combination_at_nth_stair(50)"
   ]
  },
  {
   "cell_type": "code",
   "execution_count": 166,
   "metadata": {
    "collapsed": false
   },
   "outputs": [
    {
     "name": "stdout",
     "output_type": "stream",
     "text": [
      "100 loops, best of 3: 4.01 ms per loop\n"
     ]
    }
   ],
   "source": [
    "%%timeit\n",
    "StairCase.reset_step()\n",
    "stair = StairCase()\n",
    "stair.find_all_combination_at_nth_stair(100)"
   ]
  },
  {
   "cell_type": "code",
   "execution_count": 183,
   "metadata": {
    "collapsed": false
   },
   "outputs": [
    {
     "data": {
      "text/plain": [
       "19406015"
      ]
     },
     "execution_count": 183,
     "metadata": {},
     "output_type": "execute_result"
    }
   ],
   "source": [
    "# %%timeit\n",
    "StairCase.reset_step()\n",
    "stair = StairCase()\n",
    "stair.find_all_combination_at_nth_stair(150)"
   ]
  },
  {
   "cell_type": "code",
   "execution_count": 192,
   "metadata": {
    "collapsed": false
   },
   "outputs": [
    {
     "data": {
      "text/plain": [
       "200"
      ]
     },
     "execution_count": 192,
     "metadata": {},
     "output_type": "execute_result"
    }
   ],
   "source": [
    "stair.stair_record"
   ]
  },
  {
   "cell_type": "code",
   "execution_count": 190,
   "metadata": {
    "collapsed": false
   },
   "outputs": [
    {
     "data": {
      "text/plain": [
       "487067745"
      ]
     },
     "execution_count": 190,
     "metadata": {},
     "output_type": "execute_result"
    }
   ],
   "source": [
    "stair.find_all_combination_at_nth_stair(200)"
   ]
  },
  {
   "cell_type": "code",
   "execution_count": 194,
   "metadata": {
    "collapsed": false
   },
   "outputs": [
    {
     "data": {
      "text/plain": [
       "56"
      ]
     },
     "execution_count": 194,
     "metadata": {},
     "output_type": "execute_result"
    }
   ],
   "source": [
    "import sys\n",
    "sys.getsizeof(stair)"
   ]
  }
 ],
 "metadata": {
  "kernelspec": {
   "display_name": "Python [Root]",
   "language": "python",
   "name": "Python [Root]"
  },
  "language_info": {
   "codemirror_mode": {
    "name": "ipython",
    "version": 3
   },
   "file_extension": ".py",
   "mimetype": "text/x-python",
   "name": "python",
   "nbconvert_exporter": "python",
   "pygments_lexer": "ipython3",
   "version": "3.5.2"
  }
 },
 "nbformat": 4,
 "nbformat_minor": 0
}
