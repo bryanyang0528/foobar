{
 "cells": [
  {
   "cell_type": "markdown",
   "metadata": {},
   "source": [
    "Distract the Guards\n",
    "===================\n",
    "\n",
    "The time for the mass escape has come, and you need to distract the guards so that the bunny prisoners can make it out! Unfortunately for you, they're watching the bunnies closely. Fortunately, this means they haven't realized yet that the space station is about to explode due to the destruction of the LAMBCHOP doomsday device. Also fortunately, all that time you spent working as first a minion and then a henchman means that you know the guards are fond of bananas. And gambling. And thumb wrestling.\n",
    "\n",
    "The guards, being bored, readily accept your suggestion to play the Banana Games.\n",
    "\n",
    "You will set up simultaneous thumb wrestling matches. In each match, two guards will pair off to thumb wrestle. The guard with fewer bananas will bet all their bananas, and the other guard will match the bet. The winner will receive all of the bet bananas. You don't pair off guards with the same number of bananas (you will see why, shortly). You know enough guard psychology to know that the one who has more bananas always gets over-confident and loses. Once a match begins, the pair of guards will continue to thumb wrestle and exchange bananas, until both of them have the same number of bananas. Once that happens, both of them will lose interest and go back to guarding the prisoners, and you don't want THAT to happen!\n",
    "\n",
    "For example, if the two guards that were paired started with 3 and 5 bananas, after the first round of thumb wrestling they will have 6 and 2 (the one with 3 bananas wins and gets 3 bananas from the loser). After the second round, they will have 4 and 4 (the one with 6 bananas loses 2 bananas). At that point they stop and get back to guarding.\n",
    "\n",
    "How is all this useful to distract the guards? Notice that if the guards had started with 1 and 4 bananas, then they keep thumb wrestling! 1, 4 -> 2, 3 -> 4, 1 -> 3, 2 -> 1, 4 and so on.\n",
    "\n",
    "Now your plan is clear. You must pair up the guards in such a way that the maximum number of guards go into an infinite thumb wrestling loop!\n",
    "\n",
    "Write a function answer(banana_list) which, given a list of positive integers depicting the amount of bananas the each guard starts with, returns the fewest possible number of guards that will be left to watch the prisoners. Element i of the list will be the number of bananas that guard i (counting from 0) starts with.\n",
    "\n",
    "The number of guards will be at least 1 and not more than 100, and the number of bananas each guard starts with will be a positive integer no more than 1073741823 (i.e. 2^30 -1). Some of them stockpile a LOT of bananas.\n",
    "\n",
    "Languages\n",
    "=========\n",
    "\n",
    "To provide a Python solution, edit solution.py\n",
    "To provide a Java solution, edit solution.java\n",
    "\n",
    "Test cases\n",
    "==========\n",
    "\n",
    "Inputs:\n",
    "    (int list) banana_list = [1, 1]\n",
    "Output:\n",
    "    (int) 2\n",
    "\n",
    "Inputs:\n",
    "    (int list) banana_list = [1, 7, 3, 21, 13, 19]\n",
    "Output:\n",
    "    (int) 0"
   ]
  },
  {
   "cell_type": "code",
   "execution_count": 7,
   "metadata": {
    "collapsed": false
   },
   "outputs": [],
   "source": [
    "import re\n",
    "RIGHT_ZEROS_RE = re.compile(r'.*?(0+)$')\n"
   ]
  },
  {
   "cell_type": "code",
   "execution_count": 33,
   "metadata": {
    "collapsed": true
   },
   "outputs": [],
   "source": [
    "mtx = [\n",
    "    [1, 0, 0, 1, 1, 1],\n",
    "    [0, 1, 1, 0, 1, 1],\n",
    "    [0, 1, 1, 0, 0, 1],\n",
    "    [1, 0, 0, 1, 1, 1],\n",
    "    [1, 1, 0, 1, 1, 0],\n",
    "    [1, 1, 1, 1, 0, 1]\n",
    "]"
   ]
  },
  {
   "cell_type": "code",
   "execution_count": 34,
   "metadata": {
    "collapsed": true
   },
   "outputs": [],
   "source": [
    "def mtx2list(mtx):\n",
    "    row, col = len(pair_mtx), len(pair_mtx[0])\n",
    "    pair_list = []\n",
    "    for r in range(row):\n",
    "        for l in range(r + 1, col):\n",
    "            if pair_mtx[r][l] == 0:\n",
    "                pair_list.append((r, l))\n",
    "    return pair_list"
   ]
  },
  {
   "cell_type": "code",
   "execution_count": 35,
   "metadata": {
    "collapsed": false
   },
   "outputs": [
    {
     "data": {
      "text/plain": [
       "[(0, 1), (0, 2), (1, 3), (2, 3), (2, 4), (4, 5)]"
      ]
     },
     "execution_count": 35,
     "metadata": {},
     "output_type": "execute_result"
    }
   ],
   "source": [
    "pair2list(mtx)"
   ]
  },
  {
   "cell_type": "code",
   "execution_count": 333,
   "metadata": {
    "collapsed": true
   },
   "outputs": [],
   "source": [
    "# deprecated\n",
    "class Pairs(object):    \n",
    "    def __init__(self, mtx):\n",
    "        self.row, self.col = len(mtx), len(mtx[0])\n",
    "        \n",
    "        self.pairs_list = [[(i, -1)] for i in range(self.row)]\n",
    "        self.row_idx = [0 for _ in range(self.row)]\n",
    "        self.curr_max_pair_num = self.row >> 1\n",
    "        self.seen = []\n",
    "        \n",
    "        for r in range(self.row):\n",
    "            for l in range(r + 1, self.col):\n",
    "                if mtx[r][l] == 0:\n",
    "                    self.pairs_list[r].append((r, l))\n",
    "        for r in range(self.row):\n",
    "            self.pairs_list[r] = self.pairs_list[r][::-1]\n",
    "    def _debug(self):\n",
    "        print(self.pairs_list)\n",
    "        print(self.curr_max_pair_num)"
   ]
  },
  {
   "cell_type": "code",
   "execution_count": 334,
   "metadata": {
    "collapsed": false
   },
   "outputs": [
    {
     "name": "stdout",
     "output_type": "stream",
     "text": [
      "[[(0, 2), (0, 1), (0, -1)], [(1, 3), (1, -1)], [(2, 4), (2, 3), (2, -1)], [(3, -1)], [(4, 5), (4, -1)], [(5, -1)]]\n",
      "3\n"
     ]
    }
   ],
   "source": [
    "pairs = Pairs(mtx)\n",
    "pairs._debug()"
   ]
  },
  {
   "cell_type": "code",
   "execution_count": 338,
   "metadata": {
    "collapsed": false
   },
   "outputs": [],
   "source": [
    "MAP = [[(0, 2), (0, 1), (0, -1)], [(1, 3), (1, -1)], [(2, 4), (2, 3), (2, -1)], [(3, -1)], [(4, 5), (4, -1)], [(5, -1)]]"
   ]
  },
  {
   "cell_type": "code",
   "execution_count": 553,
   "metadata": {
    "collapsed": false
   },
   "outputs": [],
   "source": [
    "class Node(object):\n",
    "    MAP = None\n",
    "    curr_guard = 0\n",
    "    max_guard = 0\n",
    "    max_lvl = 0\n",
    "    def __init__(self, tp, lvl, seen, guard):\n",
    "        self.pt = tp\n",
    "        if tp[1] != -1:\n",
    "            guard += 2\n",
    "        if guard > Node.curr_guard:\n",
    "            Node.curr_guard = guard\n",
    "        \n",
    "        if Node.curr_guard < Node.max_guard:\n",
    "            if lvl < self.max_lvl:\n",
    "                if not ((guard + 2*(Node.max_lvl - lvl) ) < Node.curr_guard):\n",
    "                    [Node(tp, lvl + 1, seen + [i for i in tp if i > 0], guard) for tp in Node.MAP[lvl] if (tp[0] not in seen and tp[1] not in seen) or tp[1] == -1]\n",
    "\n",
    "    \n",
    "    @staticmethod\n",
    "    def reset_node(MAP):\n",
    "        Node.MAP = MAP\n",
    "        Node.max_lvl = len(Node.MAP)\n",
    "        Node.max_guard = Node.max_lvl >> 1 << 1\n",
    "        Node.curr_guard = 0\n"
   ]
  },
  {
   "cell_type": "code",
   "execution_count": 340,
   "metadata": {
    "collapsed": false
   },
   "outputs": [],
   "source": [
    "Node.max_length = 0\n",
    "tree = Node((-1, -1), 0, [], 0)"
   ]
  },
  {
   "cell_type": "code",
   "execution_count": 341,
   "metadata": {
    "collapsed": false
   },
   "outputs": [
    {
     "data": {
      "text/plain": [
       "6"
      ]
     },
     "execution_count": 341,
     "metadata": {},
     "output_type": "execute_result"
    }
   ],
   "source": [
    "tree.max_length"
   ]
  },
  {
   "cell_type": "code",
   "execution_count": 212,
   "metadata": {
    "collapsed": false
   },
   "outputs": [
    {
     "data": {
      "text/plain": [
       "[(3, -1), [(4, 5), (5, -1)]]"
      ]
     },
     "execution_count": 212,
     "metadata": {},
     "output_type": "execute_result"
    }
   ],
   "source": [
    "[[(3, -1)], [(4, 5), (5, -1)]]"
   ]
  },
  {
   "cell_type": "code",
   "execution_count": 34,
   "metadata": {
    "collapsed": false
   },
   "outputs": [],
   "source": [
    "def generate_banana(guard=10, max_banana=1024, debug=False):\n",
    "    import random\n",
    "    if debug:\n",
    "#         return [100]*100\n",
    "        return [3] * 20 + [5] * 20 + [7] * 20 + [9] * 20 # + [random.randint(1, max_banana) for _ in range(50)]\n",
    "#         return [1, 7, 3, 21, 13, 19]\n",
    "    else:\n",
    "        return [random.randint(1,max_banana) for _ in range(guard)]"
   ]
  },
  {
   "cell_type": "code",
   "execution_count": 282,
   "metadata": {
    "collapsed": false
   },
   "outputs": [
    {
     "data": {
      "text/plain": [
       "[1, 7, 3, 21, 13, 19]"
      ]
     },
     "execution_count": 282,
     "metadata": {},
     "output_type": "execute_result"
    }
   ],
   "source": [
    "generate_banana(debug=True)"
   ]
  },
  {
   "cell_type": "code",
   "execution_count": 6,
   "metadata": {
    "collapsed": true
   },
   "outputs": [],
   "source": [
    "def pair01(banana_list):\n",
    "    print(banana_list)\n",
    "    guard = len(banana_list)\n",
    "    pair_mtx = [[]] * guard\n",
    "    def can_pair(ba1, ba2):\n",
    "        sum_ = ba1 + ba2\n",
    "        bin_code = bin(sum_)[2:]\n",
    "        if bin_code[-1] == '1':\n",
    "            return 1\n",
    "        else:\n",
    "            power = len(RIGHT_ZEROS_RE.match(bin_code).group(1))\n",
    "            base = sum_ >> power\n",
    "            if ba1 % base == 0:\n",
    "                return 0\n",
    "            else:\n",
    "                return 1\n",
    "    for i in range(guard):\n",
    "        pair_mtx[i] = [-1] + [can_pair(banana_list[i], banana_list[j]) for j in range(i + 1, guard)]\n",
    "    \n",
    "    return pair_mtx"
   ]
  },
  {
   "cell_type": "code",
   "execution_count": 353,
   "metadata": {
    "collapsed": false
   },
   "outputs": [
    {
     "name": "stdout",
     "output_type": "stream",
     "text": [
      "[1, 7, 3, 21, 13, 19]\n"
     ]
    },
    {
     "data": {
      "text/plain": [
       "[[-1, 0, 0, 1, 1, 1],\n",
       " [-1, 1, 0, 1, 1],\n",
       " [-1, 0, 0, 1],\n",
       " [-1, 1, 1],\n",
       " [-1, 0],\n",
       " [-1]]"
      ]
     },
     "execution_count": 353,
     "metadata": {},
     "output_type": "execute_result"
    }
   ],
   "source": [
    "pair01(generate_banana(debug=True))"
   ]
  },
  {
   "cell_type": "code",
   "execution_count": 375,
   "metadata": {
    "collapsed": false
   },
   "outputs": [],
   "source": [
    "def mtx2listcoord(mtx):\n",
    "    row = len(mtx)    \n",
    "    pairs_list = [[(i, -1)] for i in range(row)]\n",
    "        \n",
    "    for r in range(row):\n",
    "        for l in range(1, row - r):\n",
    "            if mtx[r][l] == 1:\n",
    "                pairs_list[r].append((r, r + l))\n",
    "    for r in range(row):\n",
    "        pairs_list[r] = pairs_list[r][::-1]\n",
    "    \n",
    "    return pairs_list"
   ]
  },
  {
   "cell_type": "code",
   "execution_count": 633,
   "metadata": {
    "collapsed": false
   },
   "outputs": [],
   "source": [
    "pair_mtx = pair01(generate_banana(guard=100, max_banana=(2**30-1)))\n",
    "MAP = mtx2listcoord(pair_mtx)\n",
    "# print(pair_mtx)\n",
    "# print(MAP)"
   ]
  },
  {
   "cell_type": "code",
   "execution_count": 634,
   "metadata": {
    "collapsed": false
   },
   "outputs": [
    {
     "name": "stdout",
     "output_type": "stream",
     "text": [
      "100\n"
     ]
    }
   ],
   "source": [
    "Node.reset_node(MAP)\n",
    "tree = Node((-1, -1), 0, [], 0)\n",
    "print(tree.curr_guard)"
   ]
  },
  {
   "cell_type": "code",
   "execution_count": 636,
   "metadata": {
    "collapsed": false
   },
   "outputs": [
    {
     "name": "stdout",
     "output_type": "stream",
     "text": [
      "100 loops, best of 3: 9.2 ms per loop\n"
     ]
    }
   ],
   "source": [
    "%%timeit\n",
    "Node.reset_node(MAP)\n",
    "tree = Node((-1, -1), 0, [], 0)"
   ]
  },
  {
   "cell_type": "markdown",
   "metadata": {},
   "source": [
    "# Answer:\n",
    "    five test cases\n",
    "    Time limit exceeded.\n",
    "    1. "
   ]
  },
  {
   "cell_type": "code",
   "execution_count": 499,
   "metadata": {
    "collapsed": true
   },
   "outputs": [],
   "source": [
    "import re\n",
    "RIGHT_ZEROS_RE = re.compile(r'.*?(0+)$')\n",
    "\n",
    "class Node(object):\n",
    "    MAP = None\n",
    "    curr_guard = 0\n",
    "    max_guard = 0\n",
    "    max_lvl = 0\n",
    "    def __init__(self, tp, lvl, seen, guard):\n",
    "        self.pt = tp\n",
    "        if tp[1] != -1:\n",
    "            guard += 2\n",
    "        if guard > Node.curr_guard:\n",
    "            Node.curr_guard = guard\n",
    "        \n",
    "        if Node.curr_guard < Node.max_guard:\n",
    "            if lvl < self.max_lvl:\n",
    "                if not ((guard + 2*(Node.max_lvl - lvl) ) < Node.curr_guard):\n",
    "                    [Node(tp, lvl + 1, seen + [i for i in tp if i > 0], guard) for tp in Node.MAP[lvl] if (tp[0] not in seen and tp[1] not in seen) or tp[1] == -1]\n",
    "\n",
    "    @staticmethod\n",
    "    def reset_node(MAP):\n",
    "        Node.MAP = MAP\n",
    "        Node.max_lvl = len(Node.MAP)\n",
    "        Node.max_guard = Node.max_lvl >> 1 << 1\n",
    "        Node.curr_guard = 0\n",
    "    \n",
    "    @staticmethod\n",
    "    def debug():\n",
    "#         print('INI_GUARD_NUM:', BananaTree.INI_GUARD_NUM)\n",
    "#         print('TOTAL_GUARD:', sum(BananaTree.INI_GUARD_NUM))\n",
    "#         print('MAX_DEPTH:', BananaTree.MAX_DEPTH)\n",
    "#         print('MAX_PAIRS:', BananaTree.MAX_PAIRS)\n",
    "#         print('MAP: ', BananaTree.MAP)\n",
    "        for i, layer in enumerate(Node.MAP):\n",
    "            print('LAYER', i, ' WIDTH:', len(layer))\n",
    "\n",
    "def pair01(banana_list):\n",
    "    guard = len(banana_list)\n",
    "    pair_mtx = [[]] * guard\n",
    "    def can_pair(ba1, ba2):\n",
    "        sum_ = ba1 + ba2\n",
    "        bin_code = bin(sum_)[2:]\n",
    "        if bin_code[-1] == '1':\n",
    "            return 1\n",
    "        else:\n",
    "            power = len(RIGHT_ZEROS_RE.match(bin_code).group(1))\n",
    "            base = sum_ >> power\n",
    "            if ba1 % base == 0:\n",
    "                return 0\n",
    "            else:\n",
    "                return 1\n",
    "    for i in range(guard):\n",
    "        pair_mtx[i] = [-1] + [can_pair(banana_list[i], banana_list[j]) for j in range(i + 1, guard)]\n",
    "    \n",
    "    return pair_mtx\n",
    "\n",
    "\n",
    "    \n",
    "def mtx2listcoord(mtx):\n",
    "    row = len(mtx)    \n",
    "    pairs_list = [[(i, -1)] for i in range(row)]\n",
    "        \n",
    "    for r in range(row):\n",
    "        for l in range(1, row - r):\n",
    "            if mtx[r][l] == 1:\n",
    "                pairs_list[r].append((r, r + l))\n",
    "    for r in range(row):\n",
    "        pairs_list[r] = pairs_list[r][::-1]\n",
    "    \n",
    "    return pairs_list\n",
    "\n",
    "\n",
    "\n",
    "def answer(banana_list):\n",
    "#     temp = set(banana_list)\n",
    "#     res = len(banana_list) - len(temp)\n",
    "#     banana_list = list(temp)\n",
    "#     print(banana_list)\n",
    "    guard = len(banana_list)\n",
    "    map_ = mtx2listcoord(pair01(banana_list))\n",
    "    Node.reset_node(map_)\n",
    "#     Node.debug()\n",
    "    tree = Node((-1, -1), 0, [], 0)\n",
    "    \n",
    "    return guard - tree.curr_guard\n",
    "    # your code here\n",
    "\n",
    "\n",
    "\n",
    "def generate_banana(guard=10, max_banana=int(2**30-1), debug=False):\n",
    "    import random\n",
    "    if debug:\n",
    "        return [99, 99, 99, 568, 568, 568, 307, 307, 307, 307, 1007, 1007, 1007, 251, 251, 251, 273, 273, 273, 273]\n",
    "#         ret = []\n",
    "#         while len(ret) < 100:\n",
    "#             rep = random.randint(1, 20)\n",
    "#             ret.extend([random.randint(1, max_banana)] * rep)\n",
    "#         return ret[:100]\n",
    "    else:\n",
    "        return [random.randint(1,max_banana) for _ in range(guard)]"
   ]
  },
  {
   "cell_type": "code",
   "execution_count": 500,
   "metadata": {
    "collapsed": false,
    "scrolled": true
   },
   "outputs": [
    {
     "data": {
      "text/plain": [
       "0"
      ]
     },
     "execution_count": 500,
     "metadata": {},
     "output_type": "execute_result"
    }
   ],
   "source": [
    "answer(generate_banana(guard=3, max_banana=10, debug=True))"
   ]
  },
  {
   "cell_type": "code",
   "execution_count": null,
   "metadata": {
    "collapsed": false
   },
   "outputs": [],
   "source": [
    "import re\n",
    "from collections import Counter\n",
    "import itertools\n",
    "\n",
    "RIGHT_ZEROS_RE = re.compile(r'.*?(0+)$')\n",
    "\n",
    "def pair01(banana_list):\n",
    "    guard = len(banana_list)\n",
    "    pair_mtx = [[]] * guard\n",
    "    def can_pair(ba1, ba2):\n",
    "        sum_ = ba1 + ba2\n",
    "        bin_code = bin(sum_)[2:]\n",
    "        if bin_code[-1] == '1':\n",
    "            return 1\n",
    "        else:\n",
    "            power = len(RIGHT_ZEROS_RE.match(bin_code).group(1))\n",
    "            base = sum_ >> power\n",
    "            if ba1 % base == 0:\n",
    "                return 0\n",
    "            else:\n",
    "                return 1\n",
    "    for i in range(guard):\n",
    "        pair_mtx[i] = [-1] + [can_pair(banana_list[i], banana_list[j]) for j in range(i + 1, guard)]\n",
    "    \n",
    "    return pair_mtx\n",
    "\n",
    "def mtx2listcoord(mtx):\n",
    "    row = len(mtx)    \n",
    "    pairs_list = [[-1] for i in range(row)]\n",
    "        \n",
    "    for r in range(row):\n",
    "        for l in range(1, row - r):\n",
    "            if mtx[r][l] == 1:\n",
    "                pairs_list[r].append(r + l)\n",
    "    for r in range(row):\n",
    "        pairs_list[r] = pairs_list[r][::-1]\n",
    "    return pairs_list\n",
    "\n",
    "import time\n",
    "def coord2allcombination(coord, guard_ls):\n",
    "    combination_list = []\n",
    "    \n",
    "    for i, pair in enumerate(coord):\n",
    "        comb = []\n",
    "        pair_ = pair[:-1]\n",
    "        extend_pair = []\n",
    "        for p in pair_:\n",
    "            extend_pair.extend([p] * guard_ls[p])\n",
    "        max_comb_num = min(guard_ls[i], len(extend_pair))\n",
    "        t = time.time()\n",
    "        for j in range(max_comb_num):\n",
    "            cb = list(set(itertools.combinations(extend_pair, max_comb_num - j)))\n",
    "#             cb.sort(key=lambda x: x[0], reverse=True)\n",
    "            comb.extend(cb)\n",
    "        tend = time.time() - t\n",
    "        if tend > 1:\n",
    "            print(tend)\n",
    "            print(max_comb_num, extend_pair)\n",
    "        comb.sort(key=lambda x: x[0], reverse=True)\n",
    "        combination_list.append(comb + [(-1,)])\n",
    "    \n",
    "    return combination_list\n",
    "\n",
    "\n",
    "def package_ba(banana_list):\n",
    "    ba_repeat_cnt = Counter(banana_list)\n",
    "    ba_sort = ba_repeat_cnt.most_common()[::-1]\n",
    "    ba_ls = []\n",
    "    guard_ls = []\n",
    "    for b, g in ba_sort:\n",
    "        ba_ls.append(b)\n",
    "        guard_ls.append(g)\n",
    "    return (ba_ls, guard_ls)\n",
    "\n",
    "\n",
    "class OutOfGuardLimit(Exception):\n",
    "    pass\n",
    "\n",
    "class BananaTree(object):\n",
    "    MAP = None\n",
    "    CURR_PAIRS = 0\n",
    "    MAX_PAIRS = 0\n",
    "    MAX_DEPTH = 0\n",
    "    INI_GUARD_NUM = []\n",
    "    NODE_NUM = 0\n",
    "    GUARD_USAGE = None\n",
    "    TIME = 0\n",
    "    def __init__(self, tp, depth, curr_pair, rest_gaurd):\n",
    "        if BananaTree.NODE_NUM < 1000000:\n",
    "            BananaTree.NODE_NUM += 1\n",
    "            t = time.time()\n",
    "            if t - BananaTree.TIME > 5:\n",
    "                BananaTree.TIME = t\n",
    "                print(BananaTree.NODE_NUM, BananaTree.CURR_PAIRS)\n",
    "            if tp[0] != -1:\n",
    "                curr_pair += len(tp)\n",
    "                if curr_pair > BananaTree.CURR_PAIRS:\n",
    "                    BananaTree.CURR_PAIRS = curr_pair\n",
    "#                     BananaTree.GUARD_USAGE = rest_gaurd\n",
    "\n",
    "            if BananaTree.CURR_PAIRS < BananaTree.MAX_PAIRS and depth < BananaTree.MAX_DEPTH:\n",
    "#                 if curr_pair + (sum(rest_gaurd[depth:]) >> 1) > BananaTree.CURR_PAIRS:\n",
    "                [BananaTree(tp, depth + 1, curr_pair, BananaTree.update_guard(tp, depth, rest_gaurd)) for tp in BananaTree.MAP[depth] if BananaTree.is_valid_child(tp, depth, rest_gaurd)]\n",
    "    \n",
    "    @staticmethod\n",
    "    def reset_tree(map_, guard_ls):\n",
    "        BananaTree.MAP = map_\n",
    "        BananaTree.INI_GUARD_NUM = guard_ls\n",
    "        BananaTree.MAX_DEPTH = len(BananaTree.MAP)\n",
    "        BananaTree.MAX_PAIRS = sum(BananaTree.INI_GUARD_NUM) >> 1\n",
    "        BananaTree.CURR_PAIRS = 0\n",
    "        BananaTree.NODE_NUM = 0\n",
    "        BananaTree.TIME = time.time()\n",
    "    \n",
    "    @staticmethod\n",
    "    def debug():\n",
    "        print('INI_GUARD_NUM:', BananaTree.INI_GUARD_NUM)\n",
    "        print('TOTAL_GUARD:', sum(BananaTree.INI_GUARD_NUM))\n",
    "        print('MAX_DEPTH:', BananaTree.MAX_DEPTH)\n",
    "        print('MAX_PAIRS:', BananaTree.MAX_PAIRS)\n",
    "        for i, layer in enumerate(BananaTree.MAP):\n",
    "            print('LAYER:', i, ' GUARD', BananaTree.INI_GUARD_NUM[i],' WIDTH:', len(layer))\n",
    "#             print(layer)\n",
    "            \n",
    "        \n",
    "    @staticmethod\n",
    "    def is_valid_child(tp, depth, rest_gaurd):\n",
    "        if rest_gaurd[depth] < len(tp): return False\n",
    "        if tp[0] == -1: return True\n",
    "        \n",
    "        tp_cnt = cache_counter(tp)\n",
    "        for idx, cnt in tp_cnt.items():\n",
    "            if rest_gaurd[idx] < cnt: return False\n",
    "\n",
    "        return True\n",
    "\n",
    "    @staticmethod\n",
    "    def update_guard(tp, depth, rest_gaurd):\n",
    "        new_guard = rest_gaurd[:]\n",
    "        if tp[0] != -1:\n",
    "            new_guard[depth] -= len(tp)\n",
    "#             if new_guard[depth] < 0:\n",
    "#                 raise OutOfGuardLimit\n",
    "            tp_cnt = cache_counter(tp)\n",
    "            for idx, cnt in tp_cnt.items():\n",
    "                new_guard[idx] -= cnt\n",
    "#                 if new_guard[idx] < 0:\n",
    "#                     raise OutOfGuardLimit\n",
    "        BananaTree.MAP[depth] = BananaTree.MAP[depth][::-1]\n",
    "        return new_guard\n",
    "\n",
    "    \n",
    "def cache(f):\n",
    "    _cache = {}\n",
    "    def wrapped_f(*args):\n",
    "        key = tuple(args)\n",
    "        if key in _cache:\n",
    "            return _cache[key]\n",
    "        else:\n",
    "            res = f(*args)\n",
    "            _cache[key] = res\n",
    "            return res\n",
    "\n",
    "    return wrapped_f\n",
    "\n",
    "@cache\n",
    "def cache_counter(ls):\n",
    "    return Counter(ls)\n",
    "\n",
    "def generate_banana(guard=10, max_banana= int(2**30-1), debug=False):\n",
    "    import random\n",
    "    if debug:\n",
    "        return [1] * 50 + [3] * 50 + [2] * 20\n",
    "#         return [99, 99, 99, 568, 568, 568, 307, 307, 307, 307, 1007, 1007, 1007, 251, 251, 251, 273, 273, 273, 273]\n",
    "#         ret = []\n",
    "        ret = [random.randint(1, max_banana) * random.randint(1, 10)]\n",
    "        ret.extend([random.randint(1, max_banana) * random.randint(1, 10)])\n",
    "        ret.extend([random.randint(1, max_banana) * random.randint(1, 10)])\n",
    "        while len(ret) < guard:\n",
    "            rep = random.randint(1, 2)\n",
    "            ret.extend([random.randint(1, max_banana)] * rep)\n",
    "        return ret[:guard]\n",
    "    else:\n",
    "        return [random.randint(1,max_banana) for _ in range(guard)]"
   ]
  },
  {
   "cell_type": "code",
   "execution_count": null,
   "metadata": {
    "collapsed": false,
    "scrolled": false
   },
   "outputs": [],
   "source": [
    "t = time.time()\n",
    "ba = generate_banana(guard=80, max_banana=2**30-1, debug=True)\n",
    "# ba = ba2\n",
    "banana_list, guard_list = package_ba(ba)\n",
    "pair_mtx = pair01(banana_list)\n",
    "coord = mtx2listcoord(pair_mtx)\n",
    "map_ = coord2allcombination(coord, guard_list)\n",
    "\n",
    "BananaTree.reset_tree(map_, guard_list)\n",
    "# print('banana_list:', banana_list)\n",
    "# BananaTree.debug()\n",
    "tree = BananaTree((-1,), 0, 0, BananaTree.INI_GUARD_NUM)\n",
    "print(BananaTree.CURR_PAIRS)\n",
    "print(BananaTree.NODE_NUM)\n",
    "print(time.time()-t)"
   ]
  },
  {
   "cell_type": "code",
   "execution_count": 151,
   "metadata": {
    "collapsed": false
   },
   "outputs": [
    {
     "data": {
      "text/plain": [
       "1569196"
      ]
     },
     "execution_count": 151,
     "metadata": {},
     "output_type": "execute_result"
    }
   ],
   "source": [
    "BananaTree.NODE_NUM"
   ]
  },
  {
   "cell_type": "code",
   "execution_count": 167,
   "metadata": {
    "collapsed": false
   },
   "outputs": [
    {
     "data": {
      "text/plain": [
       "Counter({1: 1, 2: 1, 3: 2, 4: 2, 5: 2, 7: 2, 8: 2, 9: 2, 10: 3})"
      ]
     },
     "execution_count": 167,
     "metadata": {},
     "output_type": "execute_result"
    }
   ],
   "source": [
    "c = {}\n",
    "a = [10, 10, 10, 9, 9, 8, 8, 7, 7, 5, 5, 4, 4, 3, 3, 2, 1]\n",
    "as_ = tuple(a)\n",
    "a_cnt = Counter(as_)\n",
    "c[as_] = a_cnt\n",
    "a_cnt_ = a_cnt.copy()\n",
    "# a_cnt_[11] += 1\n",
    "b = [11] + [10, 10, 10, 9, 9, 8, 8, 7, 7, 5, 5, 4, 4, 3, 3, 2, 1]\n",
    "bs_ = tuple(b[1:])\n",
    "c[as_]\n"
   ]
  },
  {
   "cell_type": "code",
   "execution_count": 1,
   "metadata": {
    "collapsed": false,
    "scrolled": true
   },
   "outputs": [
    {
     "ename": "NameError",
     "evalue": "name 'itertools' is not defined",
     "output_type": "error",
     "traceback": [
      "\u001b[0;31m---------------------------------------------------------------------------\u001b[0m",
      "\u001b[0;31mNameError\u001b[0m                                 Traceback (most recent call last)",
      "\u001b[0;32m<ipython-input-1-29981376d6da>\u001b[0m in \u001b[0;36m<module>\u001b[0;34m()\u001b[0m\n\u001b[0;32m----> 1\u001b[0;31m \u001b[0mb\u001b[0m \u001b[0;34m=\u001b[0m \u001b[0mlist\u001b[0m\u001b[0;34m(\u001b[0m\u001b[0mset\u001b[0m\u001b[0;34m(\u001b[0m\u001b[0mitertools\u001b[0m\u001b[0;34m.\u001b[0m\u001b[0mcombinations\u001b[0m\u001b[0;34m(\u001b[0m\u001b[0ma\u001b[0m\u001b[0;34m,\u001b[0m \u001b[0;36m2\u001b[0m\u001b[0;34m)\u001b[0m\u001b[0;34m)\u001b[0m\u001b[0;34m)\u001b[0m\u001b[0;34m\u001b[0m\u001b[0m\n\u001b[0m\u001b[1;32m      2\u001b[0m \u001b[0mb\u001b[0m\u001b[0;34m.\u001b[0m\u001b[0msort\u001b[0m\u001b[0;34m(\u001b[0m\u001b[0mkey\u001b[0m\u001b[0;34m=\u001b[0m\u001b[0;32mlambda\u001b[0m \u001b[0mx\u001b[0m\u001b[0;34m:\u001b[0m \u001b[0mx\u001b[0m\u001b[0;34m[\u001b[0m\u001b[0;36m0\u001b[0m\u001b[0;34m]\u001b[0m\u001b[0;34m,\u001b[0m \u001b[0mreverse\u001b[0m\u001b[0;34m=\u001b[0m\u001b[0;32mTrue\u001b[0m\u001b[0;34m)\u001b[0m\u001b[0;34m\u001b[0m\u001b[0m\n",
      "\u001b[0;31mNameError\u001b[0m: name 'itertools' is not defined"
     ]
    }
   ],
   "source": [
    "b = list(set(itertools.combinations(a, 2)))\n",
    "b.sort(key=lambda x: x[0], reverse=True)"
   ]
  },
  {
   "cell_type": "code",
   "execution_count": 35,
   "metadata": {
    "collapsed": false
   },
   "outputs": [
    {
     "name": "stdout",
     "output_type": "stream",
     "text": [
      "200000\n"
     ]
    },
    {
     "data": {
      "text/plain": [
       "16"
      ]
     },
     "execution_count": 35,
     "metadata": {},
     "output_type": "execute_result"
    }
   ],
   "source": [
    "# Old version but submission passed\n",
    "import re\n",
    "RIGHT_ZEROS_RE = re.compile(r'.*?(0+)$')\n",
    "\n",
    "class Node(object):\n",
    "    MAP = None\n",
    "    curr_guard = 0\n",
    "    max_guard = 0\n",
    "    max_lvl = 0\n",
    "    NODE_NUM = 0\n",
    "    def __init__(self, tp, lvl, seen, guard):\n",
    "        if Node.NODE_NUM < 200000:\n",
    "            Node.NODE_NUM += 1\n",
    "            self.pt = tp\n",
    "            if tp[1] != -1:\n",
    "                guard += 2\n",
    "            if guard > Node.curr_guard:\n",
    "                Node.curr_guard = guard\n",
    "            \n",
    "            if Node.curr_guard < Node.max_guard and lvl < self.max_lvl:\n",
    "                if not ((guard + 2*(Node.max_lvl - lvl) ) < Node.curr_guard):\n",
    "                    Node.MAP[lvl] = Node.MAP[lvl][::-1]\n",
    "                    [Node(tp, lvl + 1, seen + [i for i in tp if i > 0], guard) for tp in Node.MAP[lvl] if (tp[0] not in seen and tp[1] not in seen) or tp[1] == -1]\n",
    "\n",
    "    @staticmethod\n",
    "    def reset_node(MAP):\n",
    "        Node.MAP = MAP\n",
    "        Node.max_lvl = len(Node.MAP)\n",
    "        Node.max_guard = Node.max_lvl >> 1 << 1\n",
    "        Node.curr_guard = 0\n",
    "        Node.NODE_NUM = 0\n",
    "\n",
    "\n",
    "def pair01(banana_list):\n",
    "    guard = len(banana_list)\n",
    "    pair_mtx = [[]] * guard\n",
    "    def can_pair(ba1, ba2):\n",
    "        sum_ = ba1 + ba2\n",
    "        bin_code = bin(sum_)[2:]\n",
    "        if bin_code[-1] == '1':\n",
    "            return 1\n",
    "        else:\n",
    "            power = len(RIGHT_ZEROS_RE.match(bin_code).group(1))\n",
    "            base = sum_ >> power\n",
    "            if ba1 % base == 0:\n",
    "                return 0\n",
    "            else:\n",
    "                return 1\n",
    "    for i in range(guard):\n",
    "        pair_mtx[i] = [-1] + [can_pair(banana_list[i], banana_list[j]) for j in range(i + 1, guard)]\n",
    "    \n",
    "    return pair_mtx\n",
    "    \n",
    "def mtx2listcoord(mtx):\n",
    "    row = len(mtx)    \n",
    "    pairs_list = [[(i, -1)] for i in range(row)]\n",
    "        \n",
    "    for r in range(row):\n",
    "        for l in range(1, row - r):\n",
    "            if mtx[r][l] == 1:\n",
    "                pairs_list[r].append((r, r + l))\n",
    "    \n",
    "    return pairs_list\n",
    "\n",
    "\n",
    "def generate_banana(guard=10, max_banana= int(2**30-1), debug=False):\n",
    "    import random\n",
    "    if debug:\n",
    "#         return [1] * 50 + [3] * 30 + [2] * 20\n",
    "#         return [99, 99, 99, 568, 568, 568, 307, 307, 307, 307, 1007, 1007, 1007, 251, 251, 251, 273, 273, 273, 273]\n",
    "#         ret = []\n",
    "        ret = [random.randint(1, max_banana) * random.randint(1, 20)]\n",
    "        ret.extend([random.randint(1, max_banana) * random.randint(1, 20)])\n",
    "        ret.extend([random.randint(1, max_banana) * random.randint(1, 20)])\n",
    "        while len(ret) < guard:\n",
    "            rep = random.randint(1, 20)\n",
    "            ret.extend([random.randint(1, max_banana)] * rep)\n",
    "        return ret[:guard]\n",
    "    else:\n",
    "        return [random.randint(1,max_banana) for _ in range(guard)]\n",
    "    \n",
    "def answer(banana_list):\n",
    "    guard = len(banana_list)\n",
    "    map_ = mtx2listcoord(pair01(banana_list))\n",
    "    Node.reset_node(map_)\n",
    "    tree = Node((-1, -1), 0, [], 0)\n",
    "    print(Node.NODE_NUM)\n",
    "    return guard - tree.curr_guard\n",
    "# ba = generate_banana(guard=100, debug=True)\n",
    "answer(ba)"
   ]
  },
  {
   "cell_type": "code",
   "execution_count": null,
   "metadata": {
    "collapsed": false
   },
   "outputs": [],
   "source": []
  },
  {
   "cell_type": "code",
   "execution_count": 14,
   "metadata": {
    "collapsed": false
   },
   "outputs": [],
   "source": [
    "# New version, more clear, but test not passed\n",
    "import re\n",
    "from collections import Counter\n",
    "import itertools\n",
    "\n",
    "RIGHT_ZEROS_RE = re.compile(r'.*?(0+)$')\n",
    "\n",
    "def pair01(banana_list):\n",
    "    guard = len(banana_list)\n",
    "    pair_mtx = [[]] * guard\n",
    "    def can_pair(ba1, ba2):\n",
    "        sum_ = ba1 + ba2\n",
    "        bin_code = bin(sum_)[2:]\n",
    "        if bin_code[-1] == '1':\n",
    "            return 1\n",
    "        else:\n",
    "            power = len(RIGHT_ZEROS_RE.match(bin_code).group(1))\n",
    "            base = sum_ >> power\n",
    "            if ba1 % base == 0:\n",
    "                return 0\n",
    "            else:\n",
    "                return 1\n",
    "    for i in range(guard):\n",
    "        pair_mtx[i] = [-1] + [can_pair(banana_list[i], banana_list[j]) for j in range(i + 1, guard)]\n",
    "    \n",
    "    return pair_mtx\n",
    "\n",
    "def mtx2listcoord(mtx):\n",
    "    row = len(mtx)    \n",
    "    pairs_list = [[-1] for i in range(row)]\n",
    "        \n",
    "    for r in range(row):\n",
    "        for l in range(1, row - r):\n",
    "            if mtx[r][l] == 1:\n",
    "                pairs_list[r].append(r + l)\n",
    "    for r in range(row):\n",
    "        pairs_list[r] = pairs_list[r][::-1]\n",
    "    return pairs_list\n",
    "\n",
    "def coord2allcombination(coord, guard_ls):\n",
    "    combination_list = []\n",
    "    \n",
    "    for i, pair in enumerate(coord):\n",
    "        comb = []\n",
    "        pair_ = pair[:-1]\n",
    "        extend_pair = []\n",
    "        for p in pair_:\n",
    "            extend_pair.extend([p] * guard_ls[p])\n",
    "        max_comb_num = min(guard_ls[i], len(extend_pair))\n",
    "        for j in range(max_comb_num):\n",
    "            cb = list(set(itertools.combinations(extend_pair, max_comb_num - j)))\n",
    "            comb.extend(cb)\n",
    "        comb.sort(key=lambda x: x[0], reverse=True)\n",
    "        combination_list.append(comb + [(-1,)])\n",
    "    \n",
    "    return combination_list\n",
    "\n",
    "\n",
    "def package_ba(banana_list):\n",
    "    ba_repeat_cnt = Counter(banana_list)\n",
    "    ba_sort = ba_repeat_cnt.most_common()[::-1]\n",
    "    ba_ls = []\n",
    "    guard_ls = []\n",
    "    for b, g in ba_sort:\n",
    "        ba_ls.append(b)\n",
    "        guard_ls.append(g)\n",
    "    return (ba_ls, guard_ls)\n",
    "\n",
    "\n",
    "class OutOfGuardLimit(Exception):\n",
    "    pass\n",
    "\n",
    "class BananaTree(object):\n",
    "    MAP = None\n",
    "    CURR_PAIRS = 0\n",
    "    MAX_PAIRS = 0\n",
    "    MAX_DEPTH = 0\n",
    "    INI_GUARD_NUM = []\n",
    "    NODE_NUM = 0\n",
    "    def __init__(self, tp, depth, curr_pair, rest_gaurd):\n",
    "        if BananaTree.NODE_NUM < 10000:\n",
    "            BananaTree.NODE_NUM += 1\n",
    "            if tp[0] != -1:\n",
    "                curr_pair += len(tp)\n",
    "                if curr_pair > BananaTree.CURR_PAIRS:\n",
    "                    BananaTree.CURR_PAIRS = curr_pair\n",
    "\n",
    "            if BananaTree.CURR_PAIRS < BananaTree.MAX_PAIRS and depth < BananaTree.MAX_DEPTH:\n",
    "                [BananaTree(tp, depth + 1, curr_pair, BananaTree.update_guard(tp, depth, rest_gaurd)) for tp in BananaTree.MAP[depth] if BananaTree.is_valid_child(tp, depth, rest_gaurd)]\n",
    "    \n",
    "    @staticmethod\n",
    "    def reset_tree(map_, guard_ls):\n",
    "        BananaTree.MAP = map_\n",
    "        BananaTree.INI_GUARD_NUM = guard_ls\n",
    "        BananaTree.MAX_DEPTH = len(BananaTree.MAP)\n",
    "        BananaTree.MAX_PAIRS = sum(BananaTree.INI_GUARD_NUM) >> 1\n",
    "        BananaTree.CURR_PAIRS = 0\n",
    "        BananaTree.NODE_NUM = 0\n",
    "\n",
    "    @staticmethod\n",
    "    def debug():\n",
    "        print('INI_GUARD_NUM:', BananaTree.INI_GUARD_NUM)\n",
    "        print('TOTAL_GUARD:', sum(BananaTree.INI_GUARD_NUM))\n",
    "        print('MAX_DEPTH:', BananaTree.MAX_DEPTH)\n",
    "        print('MAX_PAIRS:', BananaTree.MAX_PAIRS)\n",
    "        for i, layer in enumerate(BananaTree.MAP):\n",
    "            print('LAYER:', i, ' GUARD', BananaTree.INI_GUARD_NUM[i],' WIDTH:', len(layer))\n",
    "#             print(layer)\n",
    "            \n",
    "        \n",
    "    @staticmethod\n",
    "    def is_valid_child(tp, depth, rest_gaurd):\n",
    "        if rest_gaurd[depth] < len(tp): return False\n",
    "        if tp[0] == -1: return True\n",
    "        \n",
    "        tp_cnt = cache_counter(tp)\n",
    "        for idx, cnt in tp_cnt.items():\n",
    "            if rest_gaurd[idx] < cnt: return False\n",
    "\n",
    "        return True\n",
    "\n",
    "    @staticmethod\n",
    "    def update_guard(tp, depth, rest_gaurd):\n",
    "        new_guard = rest_gaurd[:]\n",
    "        if tp[0] != -1:\n",
    "            new_guard[depth] -= len(tp)\n",
    "#             if new_guard[depth] < 0:\n",
    "#                 raise OutOfGuardLimit\n",
    "            tp_cnt = cache_counter(tp)\n",
    "            for idx, cnt in tp_cnt.items():\n",
    "                new_guard[idx] -= cnt\n",
    "#                 if new_guard[idx] < 0:\n",
    "#                     raise OutOfGuardLimit\n",
    "        BananaTree.MAP[depth] = BananaTree.MAP[depth][::-1]\n",
    "        return new_guard\n",
    "\n",
    "    \n",
    "def cache(f):\n",
    "    _cache = {}\n",
    "    def wrapped_f(*args):\n",
    "        key = tuple(args)\n",
    "        if key in _cache:\n",
    "            return _cache[key]\n",
    "        else:\n",
    "            res = f(*args)\n",
    "            _cache[key] = res\n",
    "            return res\n",
    "\n",
    "    return wrapped_f\n",
    "\n",
    "@cache\n",
    "def cache_counter(ls):\n",
    "    return Counter(ls)\n",
    "def answer(banana_list):\n",
    "    guard_num = len(banana_list)\n",
    "    banana_list, guard_list = package_ba(banana_list)\n",
    "    pair_mtx = pair01(banana_list)\n",
    "    coord = mtx2listcoord(pair_mtx)\n",
    "    map_ = coord2allcombination(coord, guard_list)\n",
    "\n",
    "    BananaTree.reset_tree(map_, guard_list)\n",
    "    tree = BananaTree((-1,), 0, 0, BananaTree.INI_GUARD_NUM)\n",
    "    return guard_num - 2 * BananaTree.CURR_PAIRS\n",
    "    # your code here"
   ]
  },
  {
   "cell_type": "code",
   "execution_count": 28,
   "metadata": {
    "collapsed": false
   },
   "outputs": [],
   "source": [
    "# ba1\n",
    "# ba2"
   ]
  }
 ],
 "metadata": {
  "anaconda-cloud": {},
  "kernelspec": {
   "display_name": "Python [Root]",
   "language": "python",
   "name": "Python [Root]"
  },
  "language_info": {
   "codemirror_mode": {
    "name": "ipython",
    "version": 3
   },
   "file_extension": ".py",
   "mimetype": "text/x-python",
   "name": "python",
   "nbconvert_exporter": "python",
   "pygments_lexer": "ipython3",
   "version": "3.5.2"
  }
 },
 "nbformat": 4,
 "nbformat_minor": 0
}
